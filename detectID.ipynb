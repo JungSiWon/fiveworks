{
  "cells": [
    {
      "cell_type": "code",
      "execution_count": null,
      "metadata": {
        "id": "llDONKVTjReJ"
      },
      "outputs": [],
      "source": [
        "#import library\n",
        "import cv2\n",
        "import numpy as np\n",
        "import matplotlib.pyplot as plt\n",
        "import random"
      ]
    },
    {
      "cell_type": "code",
      "source": [
        "#홀로그램 검출\n",
        "def get_holo(img, coordinate):\n",
        "\n",
        "  #img = img경로\n",
        "  if (coordinate[0]>coordinate[1] or coordinate[2]>coordinate[3]):\n",
        "    print(\"x1(y1) 좌표보다 x2(y2) 좌표값이 더 큽니다.\")\n",
        "    return\n",
        "\n",
        "  #ROI = img[80:430, 80:430] #홀로그램에서 태극마크 부분\n",
        "  ROI = img[coordinate[0]:coordinate[1], coordinate[2]:coordinate[3]] #홀로그램에서 태극마크 부분\n",
        "  ROI_size = (coordinate[1]-coordinate[0]) * (coordinate[3]-coordinate[2])\n",
        "  \n",
        "  cv2.imshow(ROI)\n",
        "  HSV = cv2.cvtColor(ROI, cv2.COLOR_BGR2HSV) #BGR to HSV\n",
        "  H, S, V = cv2.split(HSV)\n",
        "  #H = cv2.equalizeHist(H)\n",
        "  hist = cv2.calcHist(H, [0], None, [181], [0, 181])\n",
        "  plt.plot(hist)\n",
        "  plt.show()\n",
        "\n",
        "  _, H_bin = cv2.threshold(H, 150, 255, cv2.THRESH_TOZERO_INV) #H 채널에서 홀로그램 판별\n",
        "  _, H_bin1 = cv2.threshold(H_bin, 30, 255, cv2.THRESH_BINARY)\n",
        "  cv2.imshow(H_bin1)\n",
        "\n",
        "  holo_size = (sum((H_bin1/255).flatten()))\n",
        "  holo_sore = round(holo_size/ROI_size * 100, 2)\n",
        "  \n",
        "  return holo_sore"
      ],
      "metadata": {
        "id": "ZS6YX3684r1z"
      },
      "execution_count": null,
      "outputs": []
    },
    {
      "cell_type": "code",
      "source": [
        "#모서리 좌표 정렬\n",
        "def reorderPts(pts):\n",
        "  idx = np.lexsort((pts[:, 1], pts[:, 0])) # 칼럼0 -> 칼럼1 순으로 정렬한 인덱스를 반환\n",
        "  pts = pts[idx] # x좌표로 정렬\n",
        "  if pts[0, 1] > pts[1, 1]:\n",
        "    pts[[0, 1]] = pts[[1, 0]]\n",
        "  if pts[2, 1] < pts[3, 1]:\n",
        "    pts[[2, 3]] = pts[[3, 2]]\n",
        "  return pts"
      ],
      "metadata": {
        "id": "N37CYwIk_vo_"
      },
      "execution_count": null,
      "outputs": []
    },
    {
      "cell_type": "code",
      "source": [
        "#민증영역 추출\n",
        "def crob_contours(img):\n",
        "  img = cv2.imread(img, cv2.IMREAD_COLOR)\n",
        "  src = cv2.resize(img, (0, 0), fx=0.5, fy=0.5)\n",
        "  src_gray = cv2.cvtColor(src, cv2.COLOR_BGR2GRAY)\n",
        "\n",
        "  h, w = src.shape[:2]\n",
        "  dst1 = np.zeros((h, w, 3), np.uint8)\n",
        "  dst2 = np.zeros((h, w, 3), np.uint8)\n",
        "\n",
        "  dw, dh = 860, 540 \n",
        "  srcQuad = np.array([[0, 0], [0, 0], [0, 0], [0, 0]], np.float32)\n",
        "  dstQuad = np.array([[0, 0], [0, dh], [dw, dh], [dw, 0]], np.float32)\n",
        "  dst = np.zeros((dh, dw), np.uint8)\n",
        "\n",
        "  # 이진화\n",
        "  _, src_bin = cv2.threshold(src_gray, 0, 255, cv2.THRESH_BINARY | cv2.THRESH_OTSU)\n",
        "\n",
        "  # 외곽선 검출\n",
        "  contours, _ = cv2.findContours(src_bin, cv2.RETR_EXTERNAL, cv2.CHAIN_APPROX_NONE)\n",
        "\n",
        "  for i in range(len(contours)):\n",
        "      pts = contours[i]\n",
        "\n",
        "      c = (random.randint(0, 255), random.randint(0, 255), random.randint(0, 255))\n",
        "      cv2.drawContours(dst1, contours, i, c, 1)\n",
        "\n",
        "      # 너무 작은 객체는 제외\n",
        "      if (cv2.contourArea(pts) < 1000):\n",
        "          continue\n",
        "\n",
        "      # 외곽선 근사화\n",
        "      approx = cv2.approxPolyDP(pts, cv2.arcLength(pts, True)*0.02, True)\n",
        "      \n",
        "      # 컨벡스가 아니면 제외\n",
        "      if not cv2.isContourConvex(approx):\n",
        "          continue\n",
        "\n",
        "      \n",
        "      if len(approx) == 4:\n",
        "          cv2.drawContours(dst2, contours, i, c, 2)\n",
        "          srcQuad = reorderPts(approx.reshape(4, 2).astype(np.float32))\n",
        "\n",
        "          pers = cv2.getPerspectiveTransform(srcQuad, dstQuad)\n",
        "          dst = cv2.warpPerspective(src, pers, (dw, dh), flags=cv2.INTER_CUBIC)\n",
        "          dst_rgb = cv2.cvtColor(dst, cv2.COLOR_BGR2RGB)\n",
        "          \n",
        "\n",
        "  return dst"
      ],
      "metadata": {
        "id": "4UAhaddJ_yVp"
      },
      "execution_count": null,
      "outputs": []
    },
    {
      "cell_type": "code",
      "source": [
        "# 최종main 함수\n",
        "def get_hologram(img, coordinate = [80, 430, 80, 430]):\n",
        "  \"\"\"\n",
        "  img: 이미지 파일 경로\n",
        "  coordinate: ROI 좌표값, 기본값 [80, 430, 80, 430]은 태극무늬 홀로그램 필름\n",
        "  \"\"\"\n",
        "\n",
        "  dst = crob_contours(img)\n",
        "  holo_score = get_holo(dst, coordinate)\n",
        "  is_hologram = \"Y\" if (15<=holo_score and holo_score<=40) else \"N\" #빛으로 인해 holo_score가 높게 잡힐 경우 재 촬영 필요\n",
        "  if (is_hologram==\"N\"): print(\"신분증을 다시 찍어주세요.\")\n",
        "  return is_hologram , holo_score"
      ],
      "metadata": {
        "id": "Nsmf28tN_1gF"
      },
      "execution_count": null,
      "outputs": []
    },
    {
      "cell_type": "code",
      "source": [
        ""
      ],
      "metadata": {
        "id": "q45UDDx1_3zY"
      },
      "execution_count": null,
      "outputs": []
    }
  ],
  "metadata": {
    "accelerator": "GPU",
    "colab": {
      "name": "홀로그램검출.ipynb",
      "provenance": [],
      "collapsed_sections": []
    },
    "kernelspec": {
      "display_name": "Python 3",
      "name": "python3"
    },
    "language_info": {
      "name": "python"
    }
  },
  "nbformat": 4,
  "nbformat_minor": 0
}